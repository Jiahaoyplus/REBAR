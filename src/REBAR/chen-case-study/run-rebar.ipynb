{
 "cells": [
  {
   "cell_type": "code",
   "execution_count": 1,
   "outputs": [],
   "source": [
    "import numpy as np\n",
    "import pandas as pd"
   ],
   "metadata": {
    "collapsed": false,
    "ExecuteTime": {
     "end_time": "2024-06-27T03:25:58.935106Z",
     "start_time": "2024-06-27T03:25:58.925154Z"
    }
   }
  },
  {
   "cell_type": "code",
   "execution_count": 2,
   "outputs": [],
   "source": [
    "import os\n",
    "import sys\n",
    "module_path = os.path.abspath(os.path.join('../'))\n",
    "if module_path not in sys.path:\n",
    "    sys.path.append(module_path)\n",
    "import importlib; \n",
    "import rebar; \n",
    "importlib.reload( rebar ); \n",
    "from rebar import REBAR"
   ],
   "metadata": {
    "collapsed": false,
    "ExecuteTime": {
     "end_time": "2024-06-27T03:25:58.944657Z",
     "start_time": "2024-06-27T03:25:58.933340Z"
    }
   }
  },
  {
   "cell_type": "markdown",
   "source": [
    "-------"
   ],
   "metadata": {
    "collapsed": false
   }
  },
  {
   "cell_type": "code",
   "execution_count": 3,
   "outputs": [],
   "source": [
    "np.random.seed(3469117)"
   ],
   "metadata": {
    "collapsed": false,
    "ExecuteTime": {
     "end_time": "2024-06-27T03:25:58.962962Z",
     "start_time": "2024-06-27T03:25:58.947430Z"
    }
   }
  },
  {
   "cell_type": "markdown",
   "source": [
    "-------"
   ],
   "metadata": {
    "collapsed": false
   }
  },
  {
   "cell_type": "markdown",
   "source": [
    "# Chen et al. (2023) Case Study Bias Correction"
   ],
   "metadata": {
    "collapsed": false
   }
  },
  {
   "cell_type": "markdown",
   "source": [
    "#### Set up bias correction object"
   ],
   "metadata": {
    "collapsed": false
   }
  },
  {
   "cell_type": "code",
   "execution_count": 4,
   "outputs": [],
   "source": [
    "rebar = REBAR(counts='./data/chen-2023-preprocessed-data/counts.csv', \n",
    "              samples='./data/chen-2023-preprocessed-data/samples.csv', \n",
    "              variants='./data/chen-2023-preprocessed-data/variants.csv',\n",
    "              config='./rebar-config.json',\n",
    "              outdir='./results-newtimepts/')"
   ],
   "metadata": {
    "collapsed": false,
    "ExecuteTime": {
     "end_time": "2024-06-27T03:26:05.171855Z",
     "start_time": "2024-06-27T03:25:58.955542Z"
    }
   }
  },
  {
   "cell_type": "markdown",
   "source": [
    "#### Perform bias correction"
   ],
   "metadata": {
    "collapsed": false
   }
  },
  {
   "cell_type": "code",
   "execution_count": 5,
   "outputs": [
    {
     "name": "stdout",
     "output_type": "stream",
     "text": [
      "[ Stage 1: Inferring bias susceptibilities and bias prevalence deviations. ]\n",
      "    Iteration #1                                                  \n",
      "        Inferring bias prevalences and normalization factors.\n",
      "        Inferring bias susceptibilities.\n",
      "    Iteration #2                                                  \n",
      "        Inferring bias prevalences and normalization factors.\n",
      "        Inferring bias susceptibilities.\n",
      "    Iteration #3                                                  \n",
      "        Inferring bias prevalences and normalization factors.\n",
      "        Inferring bias susceptibilities.\n",
      "    Iteration #4                                                  \n",
      "        Inferring bias prevalences and normalization factors.\n",
      "        Inferring bias susceptibilities.\n",
      "    Iteration #5                                                  \n",
      "        Inferring bias prevalences and normalization factors.\n",
      "        Inferring bias susceptibilities.\n",
      "[ Stage 2: Inferring bias prevalence trends. ]                                    \n",
      "[ Computing bias-corrected fitness estimates. ]\n",
      "[ Done. ]\n"
     ]
    }
   ],
   "source": [
    "rebar.run(num_iters=5)"
   ],
   "metadata": {
    "collapsed": false,
    "ExecuteTime": {
     "end_time": "2024-06-27T04:30:54.304383Z",
     "start_time": "2024-06-27T03:26:05.174145Z"
    }
   }
  }
 ],
 "metadata": {
  "kernelspec": {
   "display_name": "Python 3 (ipykernel)",
   "language": "python",
   "name": "python3"
  },
  "language_info": {
   "codemirror_mode": {
    "name": "ipython",
    "version": 3
   },
   "file_extension": ".py",
   "mimetype": "text/x-python",
   "name": "python",
   "nbconvert_exporter": "python",
   "pygments_lexer": "ipython3",
   "version": "3.9.10"
  }
 },
 "nbformat": 4,
 "nbformat_minor": 4
}
