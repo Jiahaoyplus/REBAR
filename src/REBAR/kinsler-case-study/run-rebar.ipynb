{
 "cells": [
  {
   "cell_type": "code",
   "execution_count": 1,
   "metadata": {
    "ExecuteTime": {
     "end_time": "2024-06-23T22:50:52.649787Z",
     "start_time": "2024-06-23T22:50:52.642425Z"
    }
   },
   "outputs": [],
   "source": [
    "import numpy as np\n",
    "import pandas as pd"
   ]
  },
  {
   "cell_type": "code",
   "execution_count": 2,
   "metadata": {
    "ExecuteTime": {
     "end_time": "2024-06-23T22:50:52.671128Z",
     "start_time": "2024-06-23T22:50:52.650478Z"
    }
   },
   "outputs": [],
   "source": [
    "import os\n",
    "import sys\n",
    "module_path = os.path.abspath(os.path.join('../'))\n",
    "if module_path not in sys.path:\n",
    "    sys.path.append(module_path)\n",
    "import importlib; \n",
    "import rebar; \n",
    "importlib.reload( rebar ); \n",
    "from rebar import REBAR"
   ]
  },
  {
   "cell_type": "markdown",
   "metadata": {},
   "source": [
    "-------"
   ]
  },
  {
   "cell_type": "code",
   "execution_count": 3,
   "metadata": {
    "ExecuteTime": {
     "end_time": "2024-06-23T22:50:52.678879Z",
     "start_time": "2024-06-23T22:50:52.674644Z"
    }
   },
   "outputs": [],
   "source": [
    "np.random.seed(3469117)"
   ]
  },
  {
   "cell_type": "markdown",
   "metadata": {},
   "source": [
    "-------"
   ]
  },
  {
   "cell_type": "markdown",
   "metadata": {
    "tags": []
   },
   "source": [
    "# Kinsler et al. (2020) Case Study Bias Correction"
   ]
  },
  {
   "cell_type": "markdown",
   "metadata": {
    "tags": []
   },
   "source": [
    "#### Set up bias correction object"
   ]
  },
  {
   "cell_type": "code",
   "execution_count": 4,
   "metadata": {
    "scrolled": true,
    "tags": [],
    "ExecuteTime": {
     "end_time": "2024-06-23T22:50:55.469731Z",
     "start_time": "2024-06-23T22:50:52.682986Z"
    }
   },
   "outputs": [],
   "source": [
    "rebar = REBAR(counts='./data/kinsler-2020-preprocessed-data/counts.csv', \n",
    "              samples='./data/kinsler-2020-preprocessed-data/samples.csv', \n",
    "              variants='./data/kinsler-2020-preprocessed-data/variants.csv',\n",
    "              config='./rebar-config.json',\n",
    "              outdir='./results/')"
   ]
  },
  {
   "cell_type": "markdown",
   "metadata": {
    "tags": []
   },
   "source": [
    "#### Perform bias correction"
   ]
  },
  {
   "cell_type": "code",
   "execution_count": 5,
   "metadata": {
    "ExecuteTime": {
     "end_time": "2024-06-23T23:22:49.082865Z",
     "start_time": "2024-06-23T22:50:55.471847Z"
    }
   },
   "outputs": [
    {
     "name": "stdout",
     "output_type": "stream",
     "text": [
      "[ Stage 1: Inferring bias susceptibilities and bias prevalence deviations. ]\n",
      "    Iteration #1                                                  \n",
      "        Inferring bias prevalences and normalization factors.\n",
      "        Inferring bias susceptibilities.\n",
      "    Iteration #2                                                  \n",
      "        Inferring bias prevalences and normalization factors.\n",
      "        Inferring bias susceptibilities.\n",
      "    Iteration #3                                                  \n",
      "        Inferring bias prevalences and normalization factors.\n",
      "        Inferring bias susceptibilities.\n",
      "    Iteration #4                                                  \n",
      "        Inferring bias prevalences and normalization factors.\n",
      "        Inferring bias susceptibilities.\n",
      "    Iteration #5                                                  \n",
      "        Inferring bias prevalences and normalization factors.\n",
      "        Inferring bias susceptibilities.\n",
      "[ Stage 2: Inferring bias prevalence trends. ]                                    \n",
      "[ Computing bias-corrected fitness estimates. ]\n",
      "[ Done. ]\n"
     ]
    }
   ],
   "source": [
    "rebar.run(num_iters=5)"
   ]
  }
 ],
 "metadata": {
  "kernelspec": {
   "display_name": "Python 3 (ipykernel)",
   "language": "python",
   "name": "python3"
  },
  "language_info": {
   "codemirror_mode": {
    "name": "ipython",
    "version": 3
   },
   "file_extension": ".py",
   "mimetype": "text/x-python",
   "name": "python",
   "nbconvert_exporter": "python",
   "pygments_lexer": "ipython3",
   "version": "3.9.10"
  }
 },
 "nbformat": 4,
 "nbformat_minor": 4
}
